{
 "cells": [
  {
   "cell_type": "code",
   "execution_count": 1,
   "metadata": {},
   "outputs": [],
   "source": [
    "# Importing all the libraries required for Flight Delay Prediction Model\n",
    "import pandas as pd\n",
    "import numpy as np\n",
    "import matplotlib.pyplot as plt\n",
    "import matplotlib.patches as mpatches\n",
    "import matplotlib as mpl\n",
    "import seaborn as sns\n",
    "from datetime import datetime as dt  \n",
    "from matplotlib.gridspec import GridSpec\n",
    "from sklearn.model_selection import train_test_split\n",
    "from sklearn.linear_model import LogisticRegression\n",
    "from sklearn.tree import DecisionTreeClassifier\n",
    "from sklearn.metrics import accuracy_score, precision_score, recall_score, roc_curve, roc_auc_score,auc\n",
    "from sklearn.preprocessing import MinMaxScaler"
   ]
  },
  {
   "cell_type": "code",
   "execution_count": 2,
   "metadata": {},
   "outputs": [
    {
     "name": "stdout",
     "output_type": "stream",
     "text": [
      "(6429338, 28)\n"
     ]
    },
    {
     "data": {
      "text/html": [
       "<div>\n",
       "<style scoped>\n",
       "    .dataframe tbody tr th:only-of-type {\n",
       "        vertical-align: middle;\n",
       "    }\n",
       "\n",
       "    .dataframe tbody tr th {\n",
       "        vertical-align: top;\n",
       "    }\n",
       "\n",
       "    .dataframe thead th {\n",
       "        text-align: right;\n",
       "    }\n",
       "</style>\n",
       "<table border=\"1\" class=\"dataframe\">\n",
       "  <thead>\n",
       "    <tr style=\"text-align: right;\">\n",
       "      <th></th>\n",
       "      <th>FL_DATE</th>\n",
       "      <th>OP_CARRIER</th>\n",
       "      <th>OP_CARRIER_FL_NUM</th>\n",
       "      <th>ORIGIN</th>\n",
       "      <th>DEST</th>\n",
       "      <th>CRS_DEP_TIME</th>\n",
       "      <th>DEP_TIME</th>\n",
       "      <th>DEP_DELAY</th>\n",
       "      <th>TAXI_OUT</th>\n",
       "      <th>WHEELS_OFF</th>\n",
       "      <th>...</th>\n",
       "      <th>CRS_ELAPSED_TIME</th>\n",
       "      <th>ACTUAL_ELAPSED_TIME</th>\n",
       "      <th>AIR_TIME</th>\n",
       "      <th>DISTANCE</th>\n",
       "      <th>CARRIER_DELAY</th>\n",
       "      <th>WEATHER_DELAY</th>\n",
       "      <th>NAS_DELAY</th>\n",
       "      <th>SECURITY_DELAY</th>\n",
       "      <th>LATE_AIRCRAFT_DELAY</th>\n",
       "      <th>Unnamed: 27</th>\n",
       "    </tr>\n",
       "  </thead>\n",
       "  <tbody>\n",
       "    <tr>\n",
       "      <th>662312</th>\n",
       "      <td>2009-02-08</td>\n",
       "      <td>B6</td>\n",
       "      <td>352</td>\n",
       "      <td>BUR</td>\n",
       "      <td>JFK</td>\n",
       "      <td>650</td>\n",
       "      <td>650.0</td>\n",
       "      <td>0.0</td>\n",
       "      <td>13.0</td>\n",
       "      <td>703.0</td>\n",
       "      <td>...</td>\n",
       "      <td>309.0</td>\n",
       "      <td>306.0</td>\n",
       "      <td>285.0</td>\n",
       "      <td>2465.0</td>\n",
       "      <td>NaN</td>\n",
       "      <td>NaN</td>\n",
       "      <td>NaN</td>\n",
       "      <td>NaN</td>\n",
       "      <td>NaN</td>\n",
       "      <td>NaN</td>\n",
       "    </tr>\n",
       "    <tr>\n",
       "      <th>4166620</th>\n",
       "      <td>2009-08-20</td>\n",
       "      <td>AS</td>\n",
       "      <td>35</td>\n",
       "      <td>BOS</td>\n",
       "      <td>PDX</td>\n",
       "      <td>1645</td>\n",
       "      <td>1704.0</td>\n",
       "      <td>19.0</td>\n",
       "      <td>21.0</td>\n",
       "      <td>1725.0</td>\n",
       "      <td>...</td>\n",
       "      <td>385.0</td>\n",
       "      <td>352.0</td>\n",
       "      <td>328.0</td>\n",
       "      <td>2537.0</td>\n",
       "      <td>NaN</td>\n",
       "      <td>NaN</td>\n",
       "      <td>NaN</td>\n",
       "      <td>NaN</td>\n",
       "      <td>NaN</td>\n",
       "      <td>NaN</td>\n",
       "    </tr>\n",
       "  </tbody>\n",
       "</table>\n",
       "<p>2 rows × 28 columns</p>\n",
       "</div>"
      ],
      "text/plain": [
       "            FL_DATE OP_CARRIER  OP_CARRIER_FL_NUM ORIGIN DEST  CRS_DEP_TIME  \\\n",
       "662312   2009-02-08         B6                352    BUR  JFK           650   \n",
       "4166620  2009-08-20         AS                 35    BOS  PDX          1645   \n",
       "\n",
       "         DEP_TIME  DEP_DELAY  TAXI_OUT  WHEELS_OFF     ...       \\\n",
       "662312      650.0        0.0      13.0       703.0     ...        \n",
       "4166620    1704.0       19.0      21.0      1725.0     ...        \n",
       "\n",
       "         CRS_ELAPSED_TIME  ACTUAL_ELAPSED_TIME  AIR_TIME  DISTANCE  \\\n",
       "662312              309.0                306.0     285.0    2465.0   \n",
       "4166620             385.0                352.0     328.0    2537.0   \n",
       "\n",
       "         CARRIER_DELAY  WEATHER_DELAY NAS_DELAY  SECURITY_DELAY  \\\n",
       "662312             NaN            NaN       NaN             NaN   \n",
       "4166620            NaN            NaN       NaN             NaN   \n",
       "\n",
       "         LATE_AIRCRAFT_DELAY  Unnamed: 27  \n",
       "662312                   NaN          NaN  \n",
       "4166620                  NaN          NaN  \n",
       "\n",
       "[2 rows x 28 columns]"
      ]
     },
     "execution_count": 2,
     "metadata": {},
     "output_type": "execute_result"
    }
   ],
   "source": [
    "df=pd.read_csv(r\"C:\\Users\\Akash\\Desktop\\Project\\airline-delay-and-cancellation-data-2009-2018\\2009.csv\")\n",
    "print(df.shape)\n",
    "df.sample(2)"
   ]
  },
  {
   "cell_type": "code",
   "execution_count": 3,
   "metadata": {},
   "outputs": [
    {
     "data": {
      "text/plain": [
       "Index(['FL_DATE', 'OP_CARRIER', 'OP_CARRIER_FL_NUM', 'ORIGIN', 'DEST',\n",
       "       'CRS_DEP_TIME', 'DEP_TIME', 'DEP_DELAY', 'TAXI_OUT', 'WHEELS_OFF',\n",
       "       'WHEELS_ON', 'TAXI_IN', 'CRS_ARR_TIME', 'ARR_TIME', 'ARR_DELAY',\n",
       "       'CANCELLED', 'CANCELLATION_CODE', 'DIVERTED', 'CRS_ELAPSED_TIME',\n",
       "       'ACTUAL_ELAPSED_TIME', 'AIR_TIME', 'DISTANCE', 'CARRIER_DELAY',\n",
       "       'WEATHER_DELAY', 'NAS_DELAY', 'SECURITY_DELAY', 'LATE_AIRCRAFT_DELAY',\n",
       "       'Unnamed: 27'],\n",
       "      dtype='object')"
      ]
     },
     "execution_count": 3,
     "metadata": {},
     "output_type": "execute_result"
    }
   ],
   "source": [
    "df.columns"
   ]
  },
  {
   "cell_type": "code",
   "execution_count": 4,
   "metadata": {},
   "outputs": [],
   "source": [
    "df['YEAR'] = pd.DatetimeIndex(df['FL_DATE']).year\n",
    "df['MONTH'] = pd.DatetimeIndex(df['FL_DATE']).month\n",
    "df['DAY'] = pd.DatetimeIndex(df['FL_DATE']).day"
   ]
  },
  {
   "cell_type": "code",
   "execution_count": 5,
   "metadata": {},
   "outputs": [
    {
     "data": {
      "text/html": [
       "<div>\n",
       "<style scoped>\n",
       "    .dataframe tbody tr th:only-of-type {\n",
       "        vertical-align: middle;\n",
       "    }\n",
       "\n",
       "    .dataframe tbody tr th {\n",
       "        vertical-align: top;\n",
       "    }\n",
       "\n",
       "    .dataframe thead th {\n",
       "        text-align: right;\n",
       "    }\n",
       "</style>\n",
       "<table border=\"1\" class=\"dataframe\">\n",
       "  <thead>\n",
       "    <tr style=\"text-align: right;\">\n",
       "      <th></th>\n",
       "      <th>FL_DATE</th>\n",
       "      <th>OP_CARRIER</th>\n",
       "      <th>OP_CARRIER_FL_NUM</th>\n",
       "      <th>ORIGIN</th>\n",
       "      <th>DEST</th>\n",
       "      <th>CRS_DEP_TIME</th>\n",
       "      <th>DEP_TIME</th>\n",
       "      <th>DEP_DELAY</th>\n",
       "      <th>TAXI_OUT</th>\n",
       "      <th>WHEELS_OFF</th>\n",
       "      <th>...</th>\n",
       "      <th>DISTANCE</th>\n",
       "      <th>CARRIER_DELAY</th>\n",
       "      <th>WEATHER_DELAY</th>\n",
       "      <th>NAS_DELAY</th>\n",
       "      <th>SECURITY_DELAY</th>\n",
       "      <th>LATE_AIRCRAFT_DELAY</th>\n",
       "      <th>Unnamed: 27</th>\n",
       "      <th>YEAR</th>\n",
       "      <th>MONTH</th>\n",
       "      <th>DAY</th>\n",
       "    </tr>\n",
       "  </thead>\n",
       "  <tbody>\n",
       "    <tr>\n",
       "      <th>0</th>\n",
       "      <td>2009-01-01</td>\n",
       "      <td>XE</td>\n",
       "      <td>1204</td>\n",
       "      <td>DCA</td>\n",
       "      <td>EWR</td>\n",
       "      <td>1100</td>\n",
       "      <td>1058.0</td>\n",
       "      <td>-2.0</td>\n",
       "      <td>18.0</td>\n",
       "      <td>1116.0</td>\n",
       "      <td>...</td>\n",
       "      <td>199.0</td>\n",
       "      <td>NaN</td>\n",
       "      <td>NaN</td>\n",
       "      <td>NaN</td>\n",
       "      <td>NaN</td>\n",
       "      <td>NaN</td>\n",
       "      <td>NaN</td>\n",
       "      <td>2009</td>\n",
       "      <td>1</td>\n",
       "      <td>1</td>\n",
       "    </tr>\n",
       "    <tr>\n",
       "      <th>1</th>\n",
       "      <td>2009-01-01</td>\n",
       "      <td>XE</td>\n",
       "      <td>1206</td>\n",
       "      <td>EWR</td>\n",
       "      <td>IAD</td>\n",
       "      <td>1510</td>\n",
       "      <td>1509.0</td>\n",
       "      <td>-1.0</td>\n",
       "      <td>28.0</td>\n",
       "      <td>1537.0</td>\n",
       "      <td>...</td>\n",
       "      <td>213.0</td>\n",
       "      <td>NaN</td>\n",
       "      <td>NaN</td>\n",
       "      <td>NaN</td>\n",
       "      <td>NaN</td>\n",
       "      <td>NaN</td>\n",
       "      <td>NaN</td>\n",
       "      <td>2009</td>\n",
       "      <td>1</td>\n",
       "      <td>1</td>\n",
       "    </tr>\n",
       "    <tr>\n",
       "      <th>2</th>\n",
       "      <td>2009-01-01</td>\n",
       "      <td>XE</td>\n",
       "      <td>1207</td>\n",
       "      <td>EWR</td>\n",
       "      <td>DCA</td>\n",
       "      <td>1100</td>\n",
       "      <td>1059.0</td>\n",
       "      <td>-1.0</td>\n",
       "      <td>20.0</td>\n",
       "      <td>1119.0</td>\n",
       "      <td>...</td>\n",
       "      <td>199.0</td>\n",
       "      <td>NaN</td>\n",
       "      <td>NaN</td>\n",
       "      <td>NaN</td>\n",
       "      <td>NaN</td>\n",
       "      <td>NaN</td>\n",
       "      <td>NaN</td>\n",
       "      <td>2009</td>\n",
       "      <td>1</td>\n",
       "      <td>1</td>\n",
       "    </tr>\n",
       "    <tr>\n",
       "      <th>3</th>\n",
       "      <td>2009-01-01</td>\n",
       "      <td>XE</td>\n",
       "      <td>1208</td>\n",
       "      <td>DCA</td>\n",
       "      <td>EWR</td>\n",
       "      <td>1240</td>\n",
       "      <td>1249.0</td>\n",
       "      <td>9.0</td>\n",
       "      <td>10.0</td>\n",
       "      <td>1259.0</td>\n",
       "      <td>...</td>\n",
       "      <td>199.0</td>\n",
       "      <td>NaN</td>\n",
       "      <td>NaN</td>\n",
       "      <td>NaN</td>\n",
       "      <td>NaN</td>\n",
       "      <td>NaN</td>\n",
       "      <td>NaN</td>\n",
       "      <td>2009</td>\n",
       "      <td>1</td>\n",
       "      <td>1</td>\n",
       "    </tr>\n",
       "    <tr>\n",
       "      <th>4</th>\n",
       "      <td>2009-01-01</td>\n",
       "      <td>XE</td>\n",
       "      <td>1209</td>\n",
       "      <td>IAD</td>\n",
       "      <td>EWR</td>\n",
       "      <td>1715</td>\n",
       "      <td>1705.0</td>\n",
       "      <td>-10.0</td>\n",
       "      <td>24.0</td>\n",
       "      <td>1729.0</td>\n",
       "      <td>...</td>\n",
       "      <td>213.0</td>\n",
       "      <td>NaN</td>\n",
       "      <td>NaN</td>\n",
       "      <td>NaN</td>\n",
       "      <td>NaN</td>\n",
       "      <td>NaN</td>\n",
       "      <td>NaN</td>\n",
       "      <td>2009</td>\n",
       "      <td>1</td>\n",
       "      <td>1</td>\n",
       "    </tr>\n",
       "  </tbody>\n",
       "</table>\n",
       "<p>5 rows × 31 columns</p>\n",
       "</div>"
      ],
      "text/plain": [
       "      FL_DATE OP_CARRIER  OP_CARRIER_FL_NUM ORIGIN DEST  CRS_DEP_TIME  \\\n",
       "0  2009-01-01         XE               1204    DCA  EWR          1100   \n",
       "1  2009-01-01         XE               1206    EWR  IAD          1510   \n",
       "2  2009-01-01         XE               1207    EWR  DCA          1100   \n",
       "3  2009-01-01         XE               1208    DCA  EWR          1240   \n",
       "4  2009-01-01         XE               1209    IAD  EWR          1715   \n",
       "\n",
       "   DEP_TIME  DEP_DELAY  TAXI_OUT  WHEELS_OFF ...   DISTANCE  CARRIER_DELAY  \\\n",
       "0    1058.0       -2.0      18.0      1116.0 ...      199.0            NaN   \n",
       "1    1509.0       -1.0      28.0      1537.0 ...      213.0            NaN   \n",
       "2    1059.0       -1.0      20.0      1119.0 ...      199.0            NaN   \n",
       "3    1249.0        9.0      10.0      1259.0 ...      199.0            NaN   \n",
       "4    1705.0      -10.0      24.0      1729.0 ...      213.0            NaN   \n",
       "\n",
       "   WEATHER_DELAY  NAS_DELAY  SECURITY_DELAY  LATE_AIRCRAFT_DELAY Unnamed: 27  \\\n",
       "0            NaN        NaN             NaN                  NaN         NaN   \n",
       "1            NaN        NaN             NaN                  NaN         NaN   \n",
       "2            NaN        NaN             NaN                  NaN         NaN   \n",
       "3            NaN        NaN             NaN                  NaN         NaN   \n",
       "4            NaN        NaN             NaN                  NaN         NaN   \n",
       "\n",
       "   YEAR  MONTH  DAY  \n",
       "0  2009      1    1  \n",
       "1  2009      1    1  \n",
       "2  2009      1    1  \n",
       "3  2009      1    1  \n",
       "4  2009      1    1  \n",
       "\n",
       "[5 rows x 31 columns]"
      ]
     },
     "execution_count": 5,
     "metadata": {},
     "output_type": "execute_result"
    }
   ],
   "source": [
    "df.head()"
   ]
  },
  {
   "cell_type": "code",
   "execution_count": 6,
   "metadata": {},
   "outputs": [
    {
     "name": "stdout",
     "output_type": "stream",
     "text": [
      "(6429338, 32)\n",
      "0:00:03.043798\n"
     ]
    }
   ],
   "source": [
    "t2=dt.now()\n",
    "df['FLIGHT_DELAY'] = df['ARR_DELAY'].map( lambda x : 'YES' if x>0 else 'NO')\n",
    "print(df.shape)\n",
    "print(dt.now() -t2)"
   ]
  },
  {
   "cell_type": "code",
   "execution_count": 7,
   "metadata": {},
   "outputs": [],
   "source": [
    "percent_missing = df.isnull().sum() * 100 / len(df)\n",
    "missing_value_df = pd.DataFrame({'missing_count' : df.isnull().sum(),\n",
    "                                 'percent_missing': percent_missing})"
   ]
  },
  {
   "cell_type": "code",
   "execution_count": 8,
   "metadata": {},
   "outputs": [
    {
     "data": {
      "text/html": [
       "<div>\n",
       "<style scoped>\n",
       "    .dataframe tbody tr th:only-of-type {\n",
       "        vertical-align: middle;\n",
       "    }\n",
       "\n",
       "    .dataframe tbody tr th {\n",
       "        vertical-align: top;\n",
       "    }\n",
       "\n",
       "    .dataframe thead th {\n",
       "        text-align: right;\n",
       "    }\n",
       "</style>\n",
       "<table border=\"1\" class=\"dataframe\">\n",
       "  <thead>\n",
       "    <tr style=\"text-align: right;\">\n",
       "      <th></th>\n",
       "      <th>missing_count</th>\n",
       "      <th>percent_missing</th>\n",
       "    </tr>\n",
       "  </thead>\n",
       "  <tbody>\n",
       "    <tr>\n",
       "      <th>FL_DATE</th>\n",
       "      <td>0</td>\n",
       "      <td>0.000000</td>\n",
       "    </tr>\n",
       "    <tr>\n",
       "      <th>OP_CARRIER</th>\n",
       "      <td>0</td>\n",
       "      <td>0.000000</td>\n",
       "    </tr>\n",
       "    <tr>\n",
       "      <th>OP_CARRIER_FL_NUM</th>\n",
       "      <td>0</td>\n",
       "      <td>0.000000</td>\n",
       "    </tr>\n",
       "    <tr>\n",
       "      <th>ORIGIN</th>\n",
       "      <td>0</td>\n",
       "      <td>0.000000</td>\n",
       "    </tr>\n",
       "    <tr>\n",
       "      <th>DEST</th>\n",
       "      <td>0</td>\n",
       "      <td>0.000000</td>\n",
       "    </tr>\n",
       "    <tr>\n",
       "      <th>CRS_DEP_TIME</th>\n",
       "      <td>0</td>\n",
       "      <td>0.000000</td>\n",
       "    </tr>\n",
       "    <tr>\n",
       "      <th>DEP_TIME</th>\n",
       "      <td>82867</td>\n",
       "      <td>1.288889</td>\n",
       "    </tr>\n",
       "    <tr>\n",
       "      <th>DEP_DELAY</th>\n",
       "      <td>82867</td>\n",
       "      <td>1.288889</td>\n",
       "    </tr>\n",
       "    <tr>\n",
       "      <th>TAXI_OUT</th>\n",
       "      <td>85787</td>\n",
       "      <td>1.334305</td>\n",
       "    </tr>\n",
       "    <tr>\n",
       "      <th>WHEELS_OFF</th>\n",
       "      <td>85787</td>\n",
       "      <td>1.334305</td>\n",
       "    </tr>\n",
       "    <tr>\n",
       "      <th>WHEELS_ON</th>\n",
       "      <td>89322</td>\n",
       "      <td>1.389288</td>\n",
       "    </tr>\n",
       "    <tr>\n",
       "      <th>TAXI_IN</th>\n",
       "      <td>89321</td>\n",
       "      <td>1.389272</td>\n",
       "    </tr>\n",
       "    <tr>\n",
       "      <th>CRS_ARR_TIME</th>\n",
       "      <td>0</td>\n",
       "      <td>0.000000</td>\n",
       "    </tr>\n",
       "    <tr>\n",
       "      <th>ARR_TIME</th>\n",
       "      <td>89322</td>\n",
       "      <td>1.389288</td>\n",
       "    </tr>\n",
       "    <tr>\n",
       "      <th>ARR_DELAY</th>\n",
       "      <td>102361</td>\n",
       "      <td>1.592092</td>\n",
       "    </tr>\n",
       "    <tr>\n",
       "      <th>CANCELLED</th>\n",
       "      <td>0</td>\n",
       "      <td>0.000000</td>\n",
       "    </tr>\n",
       "    <tr>\n",
       "      <th>CANCELLATION_CODE</th>\n",
       "      <td>6342300</td>\n",
       "      <td>98.646237</td>\n",
       "    </tr>\n",
       "    <tr>\n",
       "      <th>DIVERTED</th>\n",
       "      <td>0</td>\n",
       "      <td>0.000000</td>\n",
       "    </tr>\n",
       "    <tr>\n",
       "      <th>CRS_ELAPSED_TIME</th>\n",
       "      <td>0</td>\n",
       "      <td>0.000000</td>\n",
       "    </tr>\n",
       "    <tr>\n",
       "      <th>ACTUAL_ELAPSED_TIME</th>\n",
       "      <td>102362</td>\n",
       "      <td>1.592108</td>\n",
       "    </tr>\n",
       "    <tr>\n",
       "      <th>AIR_TIME</th>\n",
       "      <td>102361</td>\n",
       "      <td>1.592092</td>\n",
       "    </tr>\n",
       "    <tr>\n",
       "      <th>DISTANCE</th>\n",
       "      <td>0</td>\n",
       "      <td>0.000000</td>\n",
       "    </tr>\n",
       "    <tr>\n",
       "      <th>CARRIER_DELAY</th>\n",
       "      <td>5258837</td>\n",
       "      <td>81.794378</td>\n",
       "    </tr>\n",
       "    <tr>\n",
       "      <th>WEATHER_DELAY</th>\n",
       "      <td>5258837</td>\n",
       "      <td>81.794378</td>\n",
       "    </tr>\n",
       "    <tr>\n",
       "      <th>NAS_DELAY</th>\n",
       "      <td>5258837</td>\n",
       "      <td>81.794378</td>\n",
       "    </tr>\n",
       "    <tr>\n",
       "      <th>SECURITY_DELAY</th>\n",
       "      <td>5258837</td>\n",
       "      <td>81.794378</td>\n",
       "    </tr>\n",
       "    <tr>\n",
       "      <th>LATE_AIRCRAFT_DELAY</th>\n",
       "      <td>5258837</td>\n",
       "      <td>81.794378</td>\n",
       "    </tr>\n",
       "    <tr>\n",
       "      <th>Unnamed: 27</th>\n",
       "      <td>6429338</td>\n",
       "      <td>100.000000</td>\n",
       "    </tr>\n",
       "    <tr>\n",
       "      <th>YEAR</th>\n",
       "      <td>0</td>\n",
       "      <td>0.000000</td>\n",
       "    </tr>\n",
       "    <tr>\n",
       "      <th>MONTH</th>\n",
       "      <td>0</td>\n",
       "      <td>0.000000</td>\n",
       "    </tr>\n",
       "    <tr>\n",
       "      <th>DAY</th>\n",
       "      <td>0</td>\n",
       "      <td>0.000000</td>\n",
       "    </tr>\n",
       "    <tr>\n",
       "      <th>FLIGHT_DELAY</th>\n",
       "      <td>0</td>\n",
       "      <td>0.000000</td>\n",
       "    </tr>\n",
       "  </tbody>\n",
       "</table>\n",
       "</div>"
      ],
      "text/plain": [
       "                     missing_count  percent_missing\n",
       "FL_DATE                          0         0.000000\n",
       "OP_CARRIER                       0         0.000000\n",
       "OP_CARRIER_FL_NUM                0         0.000000\n",
       "ORIGIN                           0         0.000000\n",
       "DEST                             0         0.000000\n",
       "CRS_DEP_TIME                     0         0.000000\n",
       "DEP_TIME                     82867         1.288889\n",
       "DEP_DELAY                    82867         1.288889\n",
       "TAXI_OUT                     85787         1.334305\n",
       "WHEELS_OFF                   85787         1.334305\n",
       "WHEELS_ON                    89322         1.389288\n",
       "TAXI_IN                      89321         1.389272\n",
       "CRS_ARR_TIME                     0         0.000000\n",
       "ARR_TIME                     89322         1.389288\n",
       "ARR_DELAY                   102361         1.592092\n",
       "CANCELLED                        0         0.000000\n",
       "CANCELLATION_CODE          6342300        98.646237\n",
       "DIVERTED                         0         0.000000\n",
       "CRS_ELAPSED_TIME                 0         0.000000\n",
       "ACTUAL_ELAPSED_TIME         102362         1.592108\n",
       "AIR_TIME                    102361         1.592092\n",
       "DISTANCE                         0         0.000000\n",
       "CARRIER_DELAY              5258837        81.794378\n",
       "WEATHER_DELAY              5258837        81.794378\n",
       "NAS_DELAY                  5258837        81.794378\n",
       "SECURITY_DELAY             5258837        81.794378\n",
       "LATE_AIRCRAFT_DELAY        5258837        81.794378\n",
       "Unnamed: 27                6429338       100.000000\n",
       "YEAR                             0         0.000000\n",
       "MONTH                            0         0.000000\n",
       "DAY                              0         0.000000\n",
       "FLIGHT_DELAY                     0         0.000000"
      ]
     },
     "execution_count": 8,
     "metadata": {},
     "output_type": "execute_result"
    }
   ],
   "source": [
    "missing_value_df"
   ]
  },
  {
   "cell_type": "code",
   "execution_count": 9,
   "metadata": {},
   "outputs": [
    {
     "data": {
      "text/plain": [
       "FLIGHT_DELAY\n",
       "NO     4026348\n",
       "YES    2402990\n",
       "Name: FLIGHT_DELAY, dtype: int64"
      ]
     },
     "execution_count": 9,
     "metadata": {},
     "output_type": "execute_result"
    }
   ],
   "source": [
    "# Counting number of samples per class\n",
    "# Number of sample per class. This will help in understanding  the nature of data. Is it balanced or imblance?\n",
    "sample_per_class=df['FLIGHT_DELAY'].groupby(df['FLIGHT_DELAY']).count()\n",
    "sample_per_class"
   ]
  },
  {
   "cell_type": "code",
   "execution_count": 10,
   "metadata": {},
   "outputs": [
    {
     "name": "stdout",
     "output_type": "stream",
     "text": [
      "Total flights: 6429338\n",
      "Total delay flights: 2402990\n",
      "Percentage of flights delay 37.37538763710976\n"
     ]
    }
   ],
   "source": [
    "delay_flights=df[df['FLIGHT_DELAY']=='YES']\n",
    "print(\"Total flights: {}\". format(df.shape[0]))\n",
    "print(\"Total delay flights: {}\". format(delay_flights.shape[0]))\n",
    "print(\"Percentage of flights delay {}\".format((delay_flights.shape[0]/df.shape[0])*100))"
   ]
  },
  {
   "cell_type": "code",
   "execution_count": 11,
   "metadata": {},
   "outputs": [
    {
     "data": {
      "text/html": [
       "<div>\n",
       "<style scoped>\n",
       "    .dataframe tbody tr th:only-of-type {\n",
       "        vertical-align: middle;\n",
       "    }\n",
       "\n",
       "    .dataframe tbody tr th {\n",
       "        vertical-align: top;\n",
       "    }\n",
       "\n",
       "    .dataframe thead th {\n",
       "        text-align: right;\n",
       "    }\n",
       "</style>\n",
       "<table border=\"1\" class=\"dataframe\">\n",
       "  <thead>\n",
       "    <tr style=\"text-align: right;\">\n",
       "      <th></th>\n",
       "      <th>FL_DATE</th>\n",
       "      <th>OP_CARRIER</th>\n",
       "      <th>OP_CARRIER_FL_NUM</th>\n",
       "      <th>ORIGIN</th>\n",
       "      <th>DEST</th>\n",
       "      <th>CRS_DEP_TIME</th>\n",
       "      <th>DEP_TIME</th>\n",
       "      <th>DEP_DELAY</th>\n",
       "      <th>TAXI_OUT</th>\n",
       "      <th>WHEELS_OFF</th>\n",
       "      <th>...</th>\n",
       "      <th>CARRIER_DELAY</th>\n",
       "      <th>WEATHER_DELAY</th>\n",
       "      <th>NAS_DELAY</th>\n",
       "      <th>SECURITY_DELAY</th>\n",
       "      <th>LATE_AIRCRAFT_DELAY</th>\n",
       "      <th>Unnamed: 27</th>\n",
       "      <th>YEAR</th>\n",
       "      <th>MONTH</th>\n",
       "      <th>DAY</th>\n",
       "      <th>FLIGHT_DELAY</th>\n",
       "    </tr>\n",
       "  </thead>\n",
       "  <tbody>\n",
       "    <tr>\n",
       "      <th>0</th>\n",
       "      <td>2009-01-01</td>\n",
       "      <td>XE</td>\n",
       "      <td>1204</td>\n",
       "      <td>DCA</td>\n",
       "      <td>EWR</td>\n",
       "      <td>1100</td>\n",
       "      <td>1058.0</td>\n",
       "      <td>-2.0</td>\n",
       "      <td>18.0</td>\n",
       "      <td>1116.0</td>\n",
       "      <td>...</td>\n",
       "      <td>NaN</td>\n",
       "      <td>NaN</td>\n",
       "      <td>NaN</td>\n",
       "      <td>NaN</td>\n",
       "      <td>NaN</td>\n",
       "      <td>NaN</td>\n",
       "      <td>2009</td>\n",
       "      <td>1</td>\n",
       "      <td>1</td>\n",
       "      <td>YES</td>\n",
       "    </tr>\n",
       "    <tr>\n",
       "      <th>1</th>\n",
       "      <td>2009-01-01</td>\n",
       "      <td>XE</td>\n",
       "      <td>1206</td>\n",
       "      <td>EWR</td>\n",
       "      <td>IAD</td>\n",
       "      <td>1510</td>\n",
       "      <td>1509.0</td>\n",
       "      <td>-1.0</td>\n",
       "      <td>28.0</td>\n",
       "      <td>1537.0</td>\n",
       "      <td>...</td>\n",
       "      <td>NaN</td>\n",
       "      <td>NaN</td>\n",
       "      <td>NaN</td>\n",
       "      <td>NaN</td>\n",
       "      <td>NaN</td>\n",
       "      <td>NaN</td>\n",
       "      <td>2009</td>\n",
       "      <td>1</td>\n",
       "      <td>1</td>\n",
       "      <td>NO</td>\n",
       "    </tr>\n",
       "    <tr>\n",
       "      <th>2</th>\n",
       "      <td>2009-01-01</td>\n",
       "      <td>XE</td>\n",
       "      <td>1207</td>\n",
       "      <td>EWR</td>\n",
       "      <td>DCA</td>\n",
       "      <td>1100</td>\n",
       "      <td>1059.0</td>\n",
       "      <td>-1.0</td>\n",
       "      <td>20.0</td>\n",
       "      <td>1119.0</td>\n",
       "      <td>...</td>\n",
       "      <td>NaN</td>\n",
       "      <td>NaN</td>\n",
       "      <td>NaN</td>\n",
       "      <td>NaN</td>\n",
       "      <td>NaN</td>\n",
       "      <td>NaN</td>\n",
       "      <td>2009</td>\n",
       "      <td>1</td>\n",
       "      <td>1</td>\n",
       "      <td>NO</td>\n",
       "    </tr>\n",
       "    <tr>\n",
       "      <th>3</th>\n",
       "      <td>2009-01-01</td>\n",
       "      <td>XE</td>\n",
       "      <td>1208</td>\n",
       "      <td>DCA</td>\n",
       "      <td>EWR</td>\n",
       "      <td>1240</td>\n",
       "      <td>1249.0</td>\n",
       "      <td>9.0</td>\n",
       "      <td>10.0</td>\n",
       "      <td>1259.0</td>\n",
       "      <td>...</td>\n",
       "      <td>NaN</td>\n",
       "      <td>NaN</td>\n",
       "      <td>NaN</td>\n",
       "      <td>NaN</td>\n",
       "      <td>NaN</td>\n",
       "      <td>NaN</td>\n",
       "      <td>2009</td>\n",
       "      <td>1</td>\n",
       "      <td>1</td>\n",
       "      <td>NO</td>\n",
       "    </tr>\n",
       "    <tr>\n",
       "      <th>4</th>\n",
       "      <td>2009-01-01</td>\n",
       "      <td>XE</td>\n",
       "      <td>1209</td>\n",
       "      <td>IAD</td>\n",
       "      <td>EWR</td>\n",
       "      <td>1715</td>\n",
       "      <td>1705.0</td>\n",
       "      <td>-10.0</td>\n",
       "      <td>24.0</td>\n",
       "      <td>1729.0</td>\n",
       "      <td>...</td>\n",
       "      <td>NaN</td>\n",
       "      <td>NaN</td>\n",
       "      <td>NaN</td>\n",
       "      <td>NaN</td>\n",
       "      <td>NaN</td>\n",
       "      <td>NaN</td>\n",
       "      <td>2009</td>\n",
       "      <td>1</td>\n",
       "      <td>1</td>\n",
       "      <td>NO</td>\n",
       "    </tr>\n",
       "  </tbody>\n",
       "</table>\n",
       "<p>5 rows × 32 columns</p>\n",
       "</div>"
      ],
      "text/plain": [
       "      FL_DATE OP_CARRIER  OP_CARRIER_FL_NUM ORIGIN DEST  CRS_DEP_TIME  \\\n",
       "0  2009-01-01         XE               1204    DCA  EWR          1100   \n",
       "1  2009-01-01         XE               1206    EWR  IAD          1510   \n",
       "2  2009-01-01         XE               1207    EWR  DCA          1100   \n",
       "3  2009-01-01         XE               1208    DCA  EWR          1240   \n",
       "4  2009-01-01         XE               1209    IAD  EWR          1715   \n",
       "\n",
       "   DEP_TIME  DEP_DELAY  TAXI_OUT  WHEELS_OFF      ...       CARRIER_DELAY  \\\n",
       "0    1058.0       -2.0      18.0      1116.0      ...                 NaN   \n",
       "1    1509.0       -1.0      28.0      1537.0      ...                 NaN   \n",
       "2    1059.0       -1.0      20.0      1119.0      ...                 NaN   \n",
       "3    1249.0        9.0      10.0      1259.0      ...                 NaN   \n",
       "4    1705.0      -10.0      24.0      1729.0      ...                 NaN   \n",
       "\n",
       "   WEATHER_DELAY  NAS_DELAY  SECURITY_DELAY  LATE_AIRCRAFT_DELAY  Unnamed: 27  \\\n",
       "0            NaN        NaN             NaN                  NaN          NaN   \n",
       "1            NaN        NaN             NaN                  NaN          NaN   \n",
       "2            NaN        NaN             NaN                  NaN          NaN   \n",
       "3            NaN        NaN             NaN                  NaN          NaN   \n",
       "4            NaN        NaN             NaN                  NaN          NaN   \n",
       "\n",
       "   YEAR  MONTH  DAY  FLIGHT_DELAY  \n",
       "0  2009      1    1           YES  \n",
       "1  2009      1    1            NO  \n",
       "2  2009      1    1            NO  \n",
       "3  2009      1    1            NO  \n",
       "4  2009      1    1            NO  \n",
       "\n",
       "[5 rows x 32 columns]"
      ]
     },
     "execution_count": 11,
     "metadata": {},
     "output_type": "execute_result"
    }
   ],
   "source": [
    "df.head()"
   ]
  },
  {
   "cell_type": "code",
   "execution_count": 12,
   "metadata": {},
   "outputs": [],
   "source": [
    "df_corr=df.corr()"
   ]
  },
  {
   "cell_type": "code",
   "execution_count": 13,
   "metadata": {},
   "outputs": [
    {
     "data": {
      "image/png": "[encoded data removed]",
      "text/plain": [
       "<Figure size 2304x2304 with 2 Axes>"
      ]
     },
     "metadata": {},
     "output_type": "display_data"
    }
   ],
   "source": [
    "fig, ax = plt.subplots(figsize=(32, 32))\n",
    "# ax.matshow(dfFlights_corr)\n",
    "sns.heatmap(df_corr, annot=True,  cmap='viridis')\n",
    "plt.xticks(range(len(df_corr.columns)), df_corr.columns);\n",
    "ax.set_xticklabels( df_corr.columns, rotation = 90)\n",
    "plt.yticks(range(len(df_corr.columns)), df_corr.columns);"
   ]
  },
  {
   "cell_type": "code",
   "execution_count": 14,
   "metadata": {},
   "outputs": [
    {
     "name": "stdout",
     "output_type": "stream",
     "text": [
      "Index(['FL_DATE', 'OP_CARRIER', 'ORIGIN', 'DEST', 'CRS_DEP_TIME', 'DEP_TIME',\n",
      "       'DEP_DELAY', 'TAXI_OUT', 'WHEELS_OFF', 'WHEELS_ON', 'TAXI_IN',\n",
      "       'CRS_ARR_TIME', 'ARR_TIME', 'ARR_DELAY', 'CANCELLED', 'DIVERTED',\n",
      "       'CRS_ELAPSED_TIME', 'ACTUAL_ELAPSED_TIME', 'AIR_TIME', 'DISTANCE',\n",
      "       'Unnamed: 27', 'YEAR', 'MONTH', 'DAY', 'FLIGHT_DELAY'],\n",
      "      dtype='object')\n"
     ]
    }
   ],
   "source": [
    "variables_to_remove=['OP_CARRIER_FL_NUM','CANCELLATION_CODE', 'NAS_DELAY',  'SECURITY_DELAY', 'CARRIER_DELAY', 'LATE_AIRCRAFT_DELAY', \n",
    "              'WEATHER_DELAY']\n",
    "df.drop(variables_to_remove, axis=1, inplace=True)\n",
    "print(df.columns)"
   ]
  },
  {
   "cell_type": "code",
   "execution_count": 15,
   "metadata": {},
   "outputs": [
    {
     "data": {
      "text/plain": [
       "Index(['FL_DATE', 'OP_CARRIER', 'ORIGIN', 'DEST', 'CRS_DEP_TIME', 'DEP_TIME',\n",
       "       'DEP_DELAY', 'TAXI_OUT', 'WHEELS_OFF', 'WHEELS_ON', 'TAXI_IN',\n",
       "       'CRS_ARR_TIME', 'ARR_TIME', 'ARR_DELAY', 'CANCELLED', 'DIVERTED',\n",
       "       'CRS_ELAPSED_TIME', 'ACTUAL_ELAPSED_TIME', 'AIR_TIME', 'DISTANCE',\n",
       "       'Unnamed: 27', 'YEAR', 'MONTH', 'DAY', 'FLIGHT_DELAY'],\n",
       "      dtype='object')"
      ]
     },
     "execution_count": 15,
     "metadata": {},
     "output_type": "execute_result"
    }
   ],
   "source": [
    "df.columns"
   ]
  },
  {
   "cell_type": "code",
   "execution_count": 16,
   "metadata": {},
   "outputs": [],
   "source": [
    "df.drop('Unnamed: 27', axis=1, inplace=True)"
   ]
  },
  {
   "cell_type": "code",
   "execution_count": 17,
   "metadata": {},
   "outputs": [
    {
     "name": "stdout",
     "output_type": "stream",
     "text": [
      "<class 'pandas.core.frame.DataFrame'>\n",
      "RangeIndex: 6429338 entries, 0 to 6429337\n",
      "Data columns (total 24 columns):\n",
      "FL_DATE                object\n",
      "OP_CARRIER             object\n",
      "ORIGIN                 object\n",
      "DEST                   object\n",
      "CRS_DEP_TIME           int64\n",
      "DEP_TIME               float64\n",
      "DEP_DELAY              float64\n",
      "TAXI_OUT               float64\n",
      "WHEELS_OFF             float64\n",
      "WHEELS_ON              float64\n",
      "TAXI_IN                float64\n",
      "CRS_ARR_TIME           int64\n",
      "ARR_TIME               float64\n",
      "ARR_DELAY              float64\n",
      "CANCELLED              float64\n",
      "DIVERTED               float64\n",
      "CRS_ELAPSED_TIME       float64\n",
      "ACTUAL_ELAPSED_TIME    float64\n",
      "AIR_TIME               float64\n",
      "DISTANCE               float64\n",
      "YEAR                   int64\n",
      "MONTH                  int64\n",
      "DAY                    int64\n",
      "FLIGHT_DELAY           object\n",
      "dtypes: float64(14), int64(5), object(5)\n",
      "memory usage: 1.1+ GB\n"
     ]
    }
   ],
   "source": [
    "df.info()"
   ]
  },
  {
   "cell_type": "code",
   "execution_count": 18,
   "metadata": {},
   "outputs": [],
   "source": [
    "df=df[df['MONTH']==1]\n",
    "df=df[df['MONTH']==1]"
   ]
  },
  {
   "cell_type": "code",
   "execution_count": 19,
   "metadata": {},
   "outputs": [
    {
     "data": {
      "text/plain": [
       "Index(['FL_DATE', 'OP_CARRIER', 'ORIGIN', 'DEST', 'CRS_DEP_TIME', 'DEP_TIME',\n",
       "       'DEP_DELAY', 'TAXI_OUT', 'WHEELS_OFF', 'WHEELS_ON', 'TAXI_IN',\n",
       "       'CRS_ARR_TIME', 'ARR_TIME', 'ARR_DELAY', 'CANCELLED', 'DIVERTED',\n",
       "       'CRS_ELAPSED_TIME', 'ACTUAL_ELAPSED_TIME', 'AIR_TIME', 'DISTANCE',\n",
       "       'YEAR', 'MONTH', 'DAY', 'FLIGHT_DELAY'],\n",
       "      dtype='object')"
      ]
     },
     "execution_count": 19,
     "metadata": {},
     "output_type": "execute_result"
    }
   ],
   "source": [
    "df.columns"
   ]
  },
  {
   "cell_type": "code",
   "execution_count": 20,
   "metadata": {},
   "outputs": [],
   "source": [
    "from sklearn.ensemble import RandomForestClassifier\n",
    "from sklearn.preprocessing import LabelEncoder\n",
    "\n",
    "clf = RandomForestClassifier(n_estimators=10, verbose=2)\n",
    "feature_ls = ['YEAR', 'MONTH', 'DAY', 'OP_CARRIER', 'ORIGIN',\n",
    "              'DEST', 'DEP_DELAY', 'TAXI_OUT', 'WHEELS_OFF', 'CRS_ELAPSED_TIME',\n",
    "              'ACTUAL_ELAPSED_TIME', 'AIR_TIME', 'DISTANCE', 'WHEELS_ON', 'TAXI_IN', 'DIVERTED', 'CANCELLED' ]\n",
    "le=LabelEncoder()\n",
    "\n",
    "x=df[feature_ls]\n",
    "y=df.FLIGHT_DELAY\n",
    "\n",
    "#ut.missingPercent(x)\n",
    "x=x.fillna(0, axis=1)\n",
    "#ut.missingPercent(x)\n",
    "\n",
    "x['OP_CARRIER']=le.fit_transform(x['OP_CARRIER'])\n",
    "x['ORIGIN']=le.fit_transform(x['ORIGIN'])\n",
    "x['DEST']=le.fit_transform(x['DEST'])"
   ]
  },
  {
   "cell_type": "code",
   "execution_count": 21,
   "metadata": {},
   "outputs": [
    {
     "name": "stdout",
     "output_type": "stream",
     "text": [
      "building tree 1 of 10\n"
     ]
    },
    {
     "name": "stderr",
     "output_type": "stream",
     "text": [
      "[Parallel(n_jobs=1)]: Done   1 out of   1 | elapsed:    2.8s remaining:    0.0s\n"
     ]
    },
    {
     "name": "stdout",
     "output_type": "stream",
     "text": [
      "building tree 2 of 10\n",
      "building tree 3 of 10\n",
      "building tree 4 of 10\n",
      "building tree 5 of 10\n",
      "building tree 6 of 10\n",
      "building tree 7 of 10\n",
      "building tree 8 of 10\n",
      "building tree 9 of 10\n",
      "building tree 10 of 10\n"
     ]
    },
    {
     "name": "stderr",
     "output_type": "stream",
     "text": [
      "[Parallel(n_jobs=1)]: Done  10 out of  10 | elapsed:   27.2s finished\n"
     ]
    },
    {
     "data": {
      "text/plain": [
       "RandomForestClassifier(bootstrap=True, class_weight=None, criterion='gini',\n",
       "            max_depth=None, max_features='auto', max_leaf_nodes=None,\n",
       "            min_impurity_decrease=0.0, min_impurity_split=None,\n",
       "            min_samples_leaf=1, min_samples_split=2,\n",
       "            min_weight_fraction_leaf=0.0, n_estimators=10, n_jobs=1,\n",
       "            oob_score=False, random_state=None, verbose=2,\n",
       "            warm_start=False)"
      ]
     },
     "execution_count": 21,
     "metadata": {},
     "output_type": "execute_result"
    }
   ],
   "source": [
    "clf.fit(x,y)"
   ]
  },
  {
   "cell_type": "code",
   "execution_count": 22,
   "metadata": {},
   "outputs": [
    {
     "data": {
      "text/html": [
       "<div>\n",
       "<style scoped>\n",
       "    .dataframe tbody tr th:only-of-type {\n",
       "        vertical-align: middle;\n",
       "    }\n",
       "\n",
       "    .dataframe tbody tr th {\n",
       "        vertical-align: top;\n",
       "    }\n",
       "\n",
       "    .dataframe thead th {\n",
       "        text-align: right;\n",
       "    }\n",
       "</style>\n",
       "<table border=\"1\" class=\"dataframe\">\n",
       "  <thead>\n",
       "    <tr style=\"text-align: right;\">\n",
       "      <th></th>\n",
       "      <th>FEATURE</th>\n",
       "      <th>IMPORTANCE</th>\n",
       "    </tr>\n",
       "  </thead>\n",
       "  <tbody>\n",
       "    <tr>\n",
       "      <th>6</th>\n",
       "      <td>DEP_DELAY</td>\n",
       "      <td>0.361633</td>\n",
       "    </tr>\n",
       "    <tr>\n",
       "      <th>7</th>\n",
       "      <td>TAXI_OUT</td>\n",
       "      <td>0.140264</td>\n",
       "    </tr>\n",
       "    <tr>\n",
       "      <th>9</th>\n",
       "      <td>CRS_ELAPSED_TIME</td>\n",
       "      <td>0.114495</td>\n",
       "    </tr>\n",
       "    <tr>\n",
       "      <th>10</th>\n",
       "      <td>ACTUAL_ELAPSED_TIME</td>\n",
       "      <td>0.089539</td>\n",
       "    </tr>\n",
       "    <tr>\n",
       "      <th>11</th>\n",
       "      <td>AIR_TIME</td>\n",
       "      <td>0.057645</td>\n",
       "    </tr>\n",
       "    <tr>\n",
       "      <th>12</th>\n",
       "      <td>DISTANCE</td>\n",
       "      <td>0.039982</td>\n",
       "    </tr>\n",
       "    <tr>\n",
       "      <th>14</th>\n",
       "      <td>TAXI_IN</td>\n",
       "      <td>0.038592</td>\n",
       "    </tr>\n",
       "    <tr>\n",
       "      <th>13</th>\n",
       "      <td>WHEELS_ON</td>\n",
       "      <td>0.036934</td>\n",
       "    </tr>\n",
       "    <tr>\n",
       "      <th>8</th>\n",
       "      <td>WHEELS_OFF</td>\n",
       "      <td>0.032173</td>\n",
       "    </tr>\n",
       "    <tr>\n",
       "      <th>2</th>\n",
       "      <td>DAY</td>\n",
       "      <td>0.026111</td>\n",
       "    </tr>\n",
       "    <tr>\n",
       "      <th>5</th>\n",
       "      <td>DEST</td>\n",
       "      <td>0.022748</td>\n",
       "    </tr>\n",
       "    <tr>\n",
       "      <th>4</th>\n",
       "      <td>ORIGIN</td>\n",
       "      <td>0.022656</td>\n",
       "    </tr>\n",
       "    <tr>\n",
       "      <th>3</th>\n",
       "      <td>OP_CARRIER</td>\n",
       "      <td>0.016389</td>\n",
       "    </tr>\n",
       "    <tr>\n",
       "      <th>16</th>\n",
       "      <td>CANCELLED</td>\n",
       "      <td>0.000525</td>\n",
       "    </tr>\n",
       "    <tr>\n",
       "      <th>15</th>\n",
       "      <td>DIVERTED</td>\n",
       "      <td>0.000312</td>\n",
       "    </tr>\n",
       "    <tr>\n",
       "      <th>1</th>\n",
       "      <td>MONTH</td>\n",
       "      <td>0.000000</td>\n",
       "    </tr>\n",
       "    <tr>\n",
       "      <th>0</th>\n",
       "      <td>YEAR</td>\n",
       "      <td>0.000000</td>\n",
       "    </tr>\n",
       "  </tbody>\n",
       "</table>\n",
       "</div>"
      ],
      "text/plain": [
       "                FEATURE  IMPORTANCE\n",
       "6             DEP_DELAY    0.361633\n",
       "7              TAXI_OUT    0.140264\n",
       "9      CRS_ELAPSED_TIME    0.114495\n",
       "10  ACTUAL_ELAPSED_TIME    0.089539\n",
       "11             AIR_TIME    0.057645\n",
       "12             DISTANCE    0.039982\n",
       "14              TAXI_IN    0.038592\n",
       "13            WHEELS_ON    0.036934\n",
       "8            WHEELS_OFF    0.032173\n",
       "2                   DAY    0.026111\n",
       "5                  DEST    0.022748\n",
       "4                ORIGIN    0.022656\n",
       "3            OP_CARRIER    0.016389\n",
       "16            CANCELLED    0.000525\n",
       "15             DIVERTED    0.000312\n",
       "1                 MONTH    0.000000\n",
       "0                  YEAR    0.000000"
      ]
     },
     "execution_count": 22,
     "metadata": {},
     "output_type": "execute_result"
    }
   ],
   "source": [
    "columns=['FEATURE', 'IMPORTANCE']\n",
    "selected_Feature=pd.DataFrame(columns=columns)\n",
    "for  idx in range(len(clf.feature_importances_)):\n",
    "    selected_Feature.loc[idx]=[feature_ls[idx] ,clf.feature_importances_[idx]]\n",
    "selected_Feature.sort_values('IMPORTANCE', ascending=False)"
   ]
  },
  {
   "cell_type": "code",
   "execution_count": 23,
   "metadata": {},
   "outputs": [],
   "source": [
    "df['FL_DATE'] = pd.to_datetime(df['FL_DATE'])\n",
    "\n",
    "df['DAY_OF_WEEK'] = df['FL_DATE'].dt.day_name()"
   ]
  },
  {
   "cell_type": "code",
   "execution_count": 24,
   "metadata": {},
   "outputs": [],
   "source": [
    "variables_to_remove=['YEAR', 'MONTH', 'DAY']\n",
    "df.drop(variables_to_remove, axis=1, inplace=True)"
   ]
  },
  {
   "cell_type": "code",
   "execution_count": 25,
   "metadata": {},
   "outputs": [
    {
     "data": {
      "text/plain": [
       "Index(['FL_DATE', 'OP_CARRIER', 'ORIGIN', 'DEST', 'CRS_DEP_TIME', 'DEP_TIME',\n",
       "       'DEP_DELAY', 'TAXI_OUT', 'WHEELS_OFF', 'WHEELS_ON', 'TAXI_IN',\n",
       "       'CRS_ARR_TIME', 'ARR_TIME', 'ARR_DELAY', 'CANCELLED', 'DIVERTED',\n",
       "       'CRS_ELAPSED_TIME', 'ACTUAL_ELAPSED_TIME', 'AIR_TIME', 'DISTANCE',\n",
       "       'FLIGHT_DELAY', 'DAY_OF_WEEK'],\n",
       "      dtype='object')"
      ]
     },
     "execution_count": 25,
     "metadata": {},
     "output_type": "execute_result"
    }
   ],
   "source": [
    "df.columns"
   ]
  },
  {
   "cell_type": "code",
   "execution_count": 26,
   "metadata": {},
   "outputs": [
    {
     "name": "stdout",
     "output_type": "stream",
     "text": [
      "<class 'pandas.core.frame.DataFrame'>\n",
      "Int64Index: 532339 entries, 0 to 532338\n",
      "Data columns (total 22 columns):\n",
      "FL_DATE                532339 non-null datetime64[ns]\n",
      "OP_CARRIER             532339 non-null object\n",
      "ORIGIN                 532339 non-null object\n",
      "DEST                   532339 non-null object\n",
      "CRS_DEP_TIME           532339 non-null int64\n",
      "DEP_TIME               520432 non-null float64\n",
      "DEP_DELAY              520432 non-null float64\n",
      "TAXI_OUT               520107 non-null float64\n",
      "WHEELS_OFF             520107 non-null float64\n",
      "WHEELS_ON              519527 non-null float64\n",
      "TAXI_IN                519528 non-null float64\n",
      "CRS_ARR_TIME           532339 non-null int64\n",
      "ARR_TIME               519527 non-null float64\n",
      "ARR_DELAY              518646 non-null float64\n",
      "CANCELLED              532339 non-null float64\n",
      "DIVERTED               532339 non-null float64\n",
      "CRS_ELAPSED_TIME       532339 non-null float64\n",
      "ACTUAL_ELAPSED_TIME    518645 non-null float64\n",
      "AIR_TIME               518646 non-null float64\n",
      "DISTANCE               532339 non-null float64\n",
      "FLIGHT_DELAY           532339 non-null object\n",
      "DAY_OF_WEEK            532339 non-null object\n",
      "dtypes: datetime64[ns](1), float64(14), int64(2), object(5)\n",
      "memory usage: 93.4+ MB\n"
     ]
    }
   ],
   "source": [
    "df.info()"
   ]
  },
  {
   "cell_type": "code",
   "execution_count": 27,
   "metadata": {},
   "outputs": [
    {
     "name": "stdout",
     "output_type": "stream",
     "text": [
      "(532339, 12)\n"
     ]
    }
   ],
   "source": [
    "variables_to_remove=['ARR_DELAY','ACTUAL_ELAPSED_TIME' , 'AIR_TIME', 'CRS_DEP_TIME','CRS_ARR_TIME',\n",
    "                     'FL_DATE','ARR_TIME' , 'WHEELS_ON', 'TAXI_IN','CANCELLED'] \n",
    "df.drop(variables_to_remove, axis=1, inplace=True)\n",
    "print(df.shape)"
   ]
  },
  {
   "cell_type": "code",
   "execution_count": 28,
   "metadata": {},
   "outputs": [
    {
     "data": {
      "text/html": [
       "<div>\n",
       "<style scoped>\n",
       "    .dataframe tbody tr th:only-of-type {\n",
       "        vertical-align: middle;\n",
       "    }\n",
       "\n",
       "    .dataframe tbody tr th {\n",
       "        vertical-align: top;\n",
       "    }\n",
       "\n",
       "    .dataframe thead th {\n",
       "        text-align: right;\n",
       "    }\n",
       "</style>\n",
       "<table border=\"1\" class=\"dataframe\">\n",
       "  <thead>\n",
       "    <tr style=\"text-align: right;\">\n",
       "      <th></th>\n",
       "      <th>OP_CARRIER</th>\n",
       "      <th>ORIGIN</th>\n",
       "      <th>DEST</th>\n",
       "      <th>DEP_TIME</th>\n",
       "      <th>DEP_DELAY</th>\n",
       "      <th>TAXI_OUT</th>\n",
       "      <th>WHEELS_OFF</th>\n",
       "      <th>DIVERTED</th>\n",
       "      <th>CRS_ELAPSED_TIME</th>\n",
       "      <th>DISTANCE</th>\n",
       "      <th>FLIGHT_DELAY</th>\n",
       "      <th>DAY_OF_WEEK</th>\n",
       "    </tr>\n",
       "  </thead>\n",
       "  <tbody>\n",
       "    <tr>\n",
       "      <th>0</th>\n",
       "      <td>XE</td>\n",
       "      <td>DCA</td>\n",
       "      <td>EWR</td>\n",
       "      <td>1058.0</td>\n",
       "      <td>-2.0</td>\n",
       "      <td>18.0</td>\n",
       "      <td>1116.0</td>\n",
       "      <td>0.0</td>\n",
       "      <td>62.0</td>\n",
       "      <td>199.0</td>\n",
       "      <td>0</td>\n",
       "      <td>Thursday</td>\n",
       "    </tr>\n",
       "    <tr>\n",
       "      <th>1</th>\n",
       "      <td>XE</td>\n",
       "      <td>EWR</td>\n",
       "      <td>IAD</td>\n",
       "      <td>1509.0</td>\n",
       "      <td>-1.0</td>\n",
       "      <td>28.0</td>\n",
       "      <td>1537.0</td>\n",
       "      <td>0.0</td>\n",
       "      <td>82.0</td>\n",
       "      <td>213.0</td>\n",
       "      <td>1</td>\n",
       "      <td>Thursday</td>\n",
       "    </tr>\n",
       "    <tr>\n",
       "      <th>2</th>\n",
       "      <td>XE</td>\n",
       "      <td>EWR</td>\n",
       "      <td>DCA</td>\n",
       "      <td>1059.0</td>\n",
       "      <td>-1.0</td>\n",
       "      <td>20.0</td>\n",
       "      <td>1119.0</td>\n",
       "      <td>0.0</td>\n",
       "      <td>70.0</td>\n",
       "      <td>199.0</td>\n",
       "      <td>1</td>\n",
       "      <td>Thursday</td>\n",
       "    </tr>\n",
       "    <tr>\n",
       "      <th>3</th>\n",
       "      <td>XE</td>\n",
       "      <td>DCA</td>\n",
       "      <td>EWR</td>\n",
       "      <td>1249.0</td>\n",
       "      <td>9.0</td>\n",
       "      <td>10.0</td>\n",
       "      <td>1259.0</td>\n",
       "      <td>0.0</td>\n",
       "      <td>77.0</td>\n",
       "      <td>199.0</td>\n",
       "      <td>1</td>\n",
       "      <td>Thursday</td>\n",
       "    </tr>\n",
       "    <tr>\n",
       "      <th>4</th>\n",
       "      <td>XE</td>\n",
       "      <td>IAD</td>\n",
       "      <td>EWR</td>\n",
       "      <td>1705.0</td>\n",
       "      <td>-10.0</td>\n",
       "      <td>24.0</td>\n",
       "      <td>1729.0</td>\n",
       "      <td>0.0</td>\n",
       "      <td>105.0</td>\n",
       "      <td>213.0</td>\n",
       "      <td>1</td>\n",
       "      <td>Thursday</td>\n",
       "    </tr>\n",
       "  </tbody>\n",
       "</table>\n",
       "</div>"
      ],
      "text/plain": [
       "  OP_CARRIER ORIGIN DEST  DEP_TIME  DEP_DELAY  TAXI_OUT  WHEELS_OFF  DIVERTED  \\\n",
       "0         XE    DCA  EWR    1058.0       -2.0      18.0      1116.0       0.0   \n",
       "1         XE    EWR  IAD    1509.0       -1.0      28.0      1537.0       0.0   \n",
       "2         XE    EWR  DCA    1059.0       -1.0      20.0      1119.0       0.0   \n",
       "3         XE    DCA  EWR    1249.0        9.0      10.0      1259.0       0.0   \n",
       "4         XE    IAD  EWR    1705.0      -10.0      24.0      1729.0       0.0   \n",
       "\n",
       "   CRS_ELAPSED_TIME  DISTANCE  FLIGHT_DELAY DAY_OF_WEEK  \n",
       "0              62.0     199.0             0    Thursday  \n",
       "1              82.0     213.0             1    Thursday  \n",
       "2              70.0     199.0             1    Thursday  \n",
       "3              77.0     199.0             1    Thursday  \n",
       "4             105.0     213.0             1    Thursday  "
      ]
     },
     "execution_count": 28,
     "metadata": {},
     "output_type": "execute_result"
    }
   ],
   "source": [
    "delay_binary={'YES':0,'NO':1}\n",
    "\n",
    "df['FLIGHT_DELAY']=df['FLIGHT_DELAY'].map(delay_binary)\n",
    "df.head()"
   ]
  },
  {
   "cell_type": "code",
   "execution_count": 29,
   "metadata": {},
   "outputs": [
    {
     "data": {
      "text/plain": [
       "((532339, 13),\n",
       " Index(['OP_CARRIER', 'ORIGIN', 'DEST', 'DEP_TIME', 'DEP_DELAY', 'TAXI_OUT',\n",
       "        'WHEELS_OFF', 'DIVERTED', 'CRS_ELAPSED_TIME', 'DISTANCE',\n",
       "        'FLIGHT_DELAY', 'DAY_OF_WEEK', 'LAG_INFO'],\n",
       "       dtype='object'))"
      ]
     },
     "execution_count": 29,
     "metadata": {},
     "output_type": "execute_result"
    }
   ],
   "source": [
    "df['LAG_INFO']= df['ORIGIN']+ '--' +df['DEST']\n",
    "df.shape, df.columns"
   ]
  },
  {
   "cell_type": "code",
   "execution_count": 30,
   "metadata": {},
   "outputs": [
    {
     "name": "stdout",
     "output_type": "stream",
     "text": [
      "(532339, 10)\n"
     ]
    }
   ],
   "source": [
    "# Removing because  We have drive the Flight_Delay  from  ARRIVAL_DELAY. So Arrival_Delay is no relevent more.\n",
    "variables_to_remove=['DEST','ORIGIN','DEP_TIME']\n",
    "df.drop(variables_to_remove, axis=1, inplace=True)\n",
    "print(df.shape)"
   ]
  },
  {
   "cell_type": "code",
   "execution_count": 31,
   "metadata": {},
   "outputs": [
    {
     "name": "stdout",
     "output_type": "stream",
     "text": [
      "4154\n"
     ]
    },
    {
     "data": {
      "text/html": [
       "<div>\n",
       "<style scoped>\n",
       "    .dataframe tbody tr th:only-of-type {\n",
       "        vertical-align: middle;\n",
       "    }\n",
       "\n",
       "    .dataframe tbody tr th {\n",
       "        vertical-align: top;\n",
       "    }\n",
       "\n",
       "    .dataframe thead th {\n",
       "        text-align: right;\n",
       "    }\n",
       "</style>\n",
       "<table border=\"1\" class=\"dataframe\">\n",
       "  <thead>\n",
       "    <tr style=\"text-align: right;\">\n",
       "      <th></th>\n",
       "      <th>OP_CARRIER</th>\n",
       "      <th>DEP_DELAY</th>\n",
       "      <th>TAXI_OUT</th>\n",
       "      <th>WHEELS_OFF</th>\n",
       "      <th>DIVERTED</th>\n",
       "      <th>CRS_ELAPSED_TIME</th>\n",
       "      <th>DISTANCE</th>\n",
       "      <th>FLIGHT_DELAY</th>\n",
       "      <th>DAY_OF_WEEK</th>\n",
       "      <th>LAG_INFO</th>\n",
       "    </tr>\n",
       "  </thead>\n",
       "  <tbody>\n",
       "    <tr>\n",
       "      <th>0</th>\n",
       "      <td>XE</td>\n",
       "      <td>-2.0</td>\n",
       "      <td>18.0</td>\n",
       "      <td>1116.0</td>\n",
       "      <td>0.0</td>\n",
       "      <td>62.0</td>\n",
       "      <td>199.0</td>\n",
       "      <td>0</td>\n",
       "      <td>Thursday</td>\n",
       "      <td>DCA--EWR</td>\n",
       "    </tr>\n",
       "    <tr>\n",
       "      <th>1</th>\n",
       "      <td>XE</td>\n",
       "      <td>-1.0</td>\n",
       "      <td>28.0</td>\n",
       "      <td>1537.0</td>\n",
       "      <td>0.0</td>\n",
       "      <td>82.0</td>\n",
       "      <td>213.0</td>\n",
       "      <td>1</td>\n",
       "      <td>Thursday</td>\n",
       "      <td>EWR--IAD</td>\n",
       "    </tr>\n",
       "    <tr>\n",
       "      <th>2</th>\n",
       "      <td>XE</td>\n",
       "      <td>-1.0</td>\n",
       "      <td>20.0</td>\n",
       "      <td>1119.0</td>\n",
       "      <td>0.0</td>\n",
       "      <td>70.0</td>\n",
       "      <td>199.0</td>\n",
       "      <td>1</td>\n",
       "      <td>Thursday</td>\n",
       "      <td>EWR--DCA</td>\n",
       "    </tr>\n",
       "    <tr>\n",
       "      <th>3</th>\n",
       "      <td>XE</td>\n",
       "      <td>9.0</td>\n",
       "      <td>10.0</td>\n",
       "      <td>1259.0</td>\n",
       "      <td>0.0</td>\n",
       "      <td>77.0</td>\n",
       "      <td>199.0</td>\n",
       "      <td>1</td>\n",
       "      <td>Thursday</td>\n",
       "      <td>DCA--EWR</td>\n",
       "    </tr>\n",
       "    <tr>\n",
       "      <th>4</th>\n",
       "      <td>XE</td>\n",
       "      <td>-10.0</td>\n",
       "      <td>24.0</td>\n",
       "      <td>1729.0</td>\n",
       "      <td>0.0</td>\n",
       "      <td>105.0</td>\n",
       "      <td>213.0</td>\n",
       "      <td>1</td>\n",
       "      <td>Thursday</td>\n",
       "      <td>IAD--EWR</td>\n",
       "    </tr>\n",
       "  </tbody>\n",
       "</table>\n",
       "</div>"
      ],
      "text/plain": [
       "  OP_CARRIER  DEP_DELAY  TAXI_OUT  WHEELS_OFF  DIVERTED  CRS_ELAPSED_TIME  \\\n",
       "0         XE       -2.0      18.0      1116.0       0.0              62.0   \n",
       "1         XE       -1.0      28.0      1537.0       0.0              82.0   \n",
       "2         XE       -1.0      20.0      1119.0       0.0              70.0   \n",
       "3         XE        9.0      10.0      1259.0       0.0              77.0   \n",
       "4         XE      -10.0      24.0      1729.0       0.0             105.0   \n",
       "\n",
       "   DISTANCE  FLIGHT_DELAY DAY_OF_WEEK  LAG_INFO  \n",
       "0     199.0             0    Thursday  DCA--EWR  \n",
       "1     213.0             1    Thursday  EWR--IAD  \n",
       "2     199.0             1    Thursday  EWR--DCA  \n",
       "3     199.0             1    Thursday  DCA--EWR  \n",
       "4     213.0             1    Thursday  IAD--EWR  "
      ]
     },
     "execution_count": 31,
     "metadata": {},
     "output_type": "execute_result"
    }
   ],
   "source": [
    "print(df['LAG_INFO'].nunique())\n",
    "df.head()"
   ]
  },
  {
   "cell_type": "code",
   "execution_count": 32,
   "metadata": {},
   "outputs": [
    {
     "data": {
      "text/plain": [
       "Index(['OP_CARRIER', 'DEP_DELAY', 'TAXI_OUT', 'WHEELS_OFF', 'DIVERTED',\n",
       "       'CRS_ELAPSED_TIME', 'DISTANCE', 'FLIGHT_DELAY', 'DAY_OF_WEEK',\n",
       "       'LAG_INFO'],\n",
       "      dtype='object')"
      ]
     },
     "execution_count": 32,
     "metadata": {},
     "output_type": "execute_result"
    }
   ],
   "source": [
    "df.columns"
   ]
  },
  {
   "cell_type": "code",
   "execution_count": 33,
   "metadata": {},
   "outputs": [
    {
     "data": {
      "text/plain": [
       "OP_CARRIER              0\n",
       "DEP_DELAY           11907\n",
       "TAXI_OUT            12232\n",
       "WHEELS_OFF          12232\n",
       "DIVERTED                0\n",
       "CRS_ELAPSED_TIME        0\n",
       "DISTANCE                0\n",
       "FLIGHT_DELAY            0\n",
       "DAY_OF_WEEK             0\n",
       "LAG_INFO                0\n",
       "dtype: int64"
      ]
     },
     "execution_count": 33,
     "metadata": {},
     "output_type": "execute_result"
    }
   ],
   "source": [
    "df.isnull().sum()"
   ]
  },
  {
   "cell_type": "code",
   "execution_count": 34,
   "metadata": {},
   "outputs": [],
   "source": [
    "df['DEP_DELAY'] = df['DEP_DELAY'].fillna(0)\n",
    "df['TAXI_OUT'] = df['TAXI_OUT'].fillna(0)\n",
    "df['WHEELS_OFF'] = df['WHEELS_OFF'].fillna(0)"
   ]
  },
  {
   "cell_type": "code",
   "execution_count": 35,
   "metadata": {},
   "outputs": [],
   "source": [
    "final_df=df.loc[:150000]"
   ]
  },
  {
   "cell_type": "code",
   "execution_count": 36,
   "metadata": {},
   "outputs": [
    {
     "data": {
      "text/plain": [
       "Index(['DEP_DELAY', 'TAXI_OUT', 'WHEELS_OFF', 'DIVERTED', 'CRS_ELAPSED_TIME',\n",
       "       'DISTANCE', 'FLIGHT_DELAY', 'OP_CARRIER_9E', 'OP_CARRIER_AA',\n",
       "       'OP_CARRIER_AS',\n",
       "       ...\n",
       "       'LAG_INFO_XNA--IAH', 'LAG_INFO_XNA--LAX', 'LAG_INFO_XNA--LGA',\n",
       "       'LAG_INFO_XNA--MEM', 'LAG_INFO_XNA--MSP', 'LAG_INFO_XNA--ORD',\n",
       "       'LAG_INFO_YAK--CDV', 'LAG_INFO_YAK--JNU', 'LAG_INFO_YUM--LAX',\n",
       "       'LAG_INFO_YUM--PHX'],\n",
       "      dtype='object', length=4162)"
      ]
     },
     "execution_count": 36,
     "metadata": {},
     "output_type": "execute_result"
    }
   ],
   "source": [
    "df=pd.get_dummies(final_df, drop_first=False)\n",
    "df.columns"
   ]
  },
  {
   "cell_type": "code",
   "execution_count": 37,
   "metadata": {},
   "outputs": [],
   "source": [
    "Y=df['FLIGHT_DELAY']\n",
    "df.drop('FLIGHT_DELAY',  axis=1, inplace=True)"
   ]
  },
  {
   "cell_type": "code",
   "execution_count": 38,
   "metadata": {},
   "outputs": [],
   "source": [
    "xdf=df"
   ]
  },
  {
   "cell_type": "code",
   "execution_count": 39,
   "metadata": {},
   "outputs": [
    {
     "data": {
      "text/plain": [
       "array([[0.03278689, 0.07594937, 0.465     , ..., 0.        , 0.        ,\n",
       "        0.        ],\n",
       "       [0.03360656, 0.11814346, 0.64041667, ..., 0.        , 0.        ,\n",
       "        0.        ],\n",
       "       [0.03360656, 0.08438819, 0.46625   , ..., 0.        , 0.        ,\n",
       "        0.        ],\n",
       "       ...,\n",
       "       [0.0295082 , 0.08860759, 0.56458333, ..., 0.        , 0.        ,\n",
       "        0.        ],\n",
       "       [0.04016393, 0.06329114, 0.56166667, ..., 0.        , 0.        ,\n",
       "        0.        ],\n",
       "       [0.03032787, 0.02531646, 0.58875   , ..., 0.        , 0.        ,\n",
       "        0.        ]])"
      ]
     },
     "execution_count": 39,
     "metadata": {},
     "output_type": "execute_result"
    }
   ],
   "source": [
    "normal=MinMaxScaler()\n",
    "normal.fit_transform(xdf)"
   ]
  },
  {
   "cell_type": "code",
   "execution_count": 40,
   "metadata": {},
   "outputs": [],
   "source": [
    "clfdt=DecisionTreeClassifier()\n",
    "lr=LogisticRegression()"
   ]
  },
  {
   "cell_type": "code",
   "execution_count": 41,
   "metadata": {},
   "outputs": [],
   "source": [
    "x_train, x_test, y_train,y_test =train_test_split(xdf,Y, test_size=.20)"
   ]
  },
  {
   "cell_type": "code",
   "execution_count": 42,
   "metadata": {},
   "outputs": [
    {
     "data": {
      "text/plain": [
       "((120000, 4161), (120000,))"
      ]
     },
     "execution_count": 42,
     "metadata": {},
     "output_type": "execute_result"
    }
   ],
   "source": [
    "x_train.shape,y_train.shape"
   ]
  },
  {
   "cell_type": "code",
   "execution_count": 43,
   "metadata": {},
   "outputs": [
    {
     "data": {
      "text/plain": [
       "FLIGHT_DELAY\n",
       "0    68827\n",
       "1    81174\n",
       "Name: FLIGHT_DELAY, dtype: int64"
      ]
     },
     "execution_count": 43,
     "metadata": {},
     "output_type": "execute_result"
    }
   ],
   "source": [
    "# Counting number of samples per class\n",
    "# Number of sample per class. This will help in understanding  the nature of data. Is it balanced or imblance?\n",
    "sample_per_class=Y.groupby(Y).count()\n",
    "sample_per_class"
   ]
  },
  {
   "cell_type": "code",
   "execution_count": 44,
   "metadata": {},
   "outputs": [],
   "source": [
    "lr = LogisticRegression()"
   ]
  },
  {
   "cell_type": "code",
   "execution_count": 45,
   "metadata": {},
   "outputs": [
    {
     "data": {
      "text/plain": [
       "LogisticRegression(C=1.0, class_weight=None, dual=False, fit_intercept=True,\n",
       "          intercept_scaling=1, max_iter=100, multi_class='ovr', n_jobs=1,\n",
       "          penalty='l2', random_state=None, solver='liblinear', tol=0.0001,\n",
       "          verbose=0, warm_start=False)"
      ]
     },
     "execution_count": 45,
     "metadata": {},
     "output_type": "execute_result"
    }
   ],
   "source": [
    "lr.fit(x_train,y_train)"
   ]
  },
  {
   "cell_type": "code",
   "execution_count": 46,
   "metadata": {},
   "outputs": [
    {
     "name": "stdout",
     "output_type": "stream",
     "text": [
      "----------------------------- Model Evaluation----------------------- \n",
      "Model Accuracy  0.8532048931702276\n",
      "----------------------------- Model Evaluation----------------------- \n",
      "Recall Score  0.8318594040443869\n",
      "----------------------------- Model Evaluation----------------------- \n",
      "Precssion Score  0.9123370606041885\n",
      "----------------------------- Model Evaluation----------------------- \n",
      "Roc AUC Score  0.8580018770711811\n"
     ]
    }
   ],
   "source": [
    "y_pred_lr=lr.predict(x_test)\n",
    "print(\"----------------------------- Model Evaluation----------------------- \")\n",
    "print('Model Accuracy ', accuracy_score(y_pred_lr, y_test))\n",
    "print(\"----------------------------- Model Evaluation----------------------- \")\n",
    "print(\"Recall Score \",recall_score(y_pred_lr, y_test))\n",
    "print(\"----------------------------- Model Evaluation----------------------- \")\n",
    "print(\"Precssion Score \",precision_score(y_pred_lr, y_test))\n",
    "print(\"----------------------------- Model Evaluation----------------------- \")\n",
    "print(\"Roc AUC Score \",roc_auc_score(y_pred_lr, y_test))"
   ]
  },
  {
   "cell_type": "code",
   "execution_count": 47,
   "metadata": {},
   "outputs": [
    {
     "name": "stdout",
     "output_type": "stream",
     "text": [
      "Train Accuracy ::  0.8660083333333334\n",
      "Test Accuracy  ::  0.8532048931702276\n"
     ]
    }
   ],
   "source": [
    "y_pred_train=lr.predict(x_train)\n",
    "y_pred_test=lr.predict(x_test)\n",
    "\n",
    "print(\"Train Accuracy :: \", accuracy_score(y_train, y_pred_train))\n",
    "print(\"Test Accuracy  :: \", accuracy_score(y_test, y_pred_test))\n"
   ]
  },
  {
   "cell_type": "code",
   "execution_count": 50,
   "metadata": {},
   "outputs": [],
   "source": [
    "clfdt=DecisionTreeClassifier()"
   ]
  },
  {
   "cell_type": "code",
   "execution_count": 51,
   "metadata": {},
   "outputs": [
    {
     "data": {
      "text/plain": [
       "DecisionTreeClassifier(class_weight=None, criterion='gini', max_depth=None,\n",
       "            max_features=None, max_leaf_nodes=None,\n",
       "            min_impurity_decrease=0.0, min_impurity_split=None,\n",
       "            min_samples_leaf=1, min_samples_split=2,\n",
       "            min_weight_fraction_leaf=0.0, presort=False, random_state=None,\n",
       "            splitter='best')"
      ]
     },
     "execution_count": 51,
     "metadata": {},
     "output_type": "execute_result"
    }
   ],
   "source": [
    "clfdt.fit(x_train,y_train)"
   ]
  },
  {
   "cell_type": "code",
   "execution_count": 52,
   "metadata": {},
   "outputs": [],
   "source": [
    "y_pred_dt=clfdt.predict(x_test)"
   ]
  },
  {
   "cell_type": "code",
   "execution_count": 53,
   "metadata": {},
   "outputs": [
    {
     "name": "stdout",
     "output_type": "stream",
     "text": [
      "---------------------- Decision Tree Model Evaluation ------------ \n",
      "Model Accuracy  0.8021065964467851\n",
      "----------------------------- -------------------------------------\n",
      "Recall Score  0.8022528898325076\n",
      "------------------------------------------------------------------- \n",
      "Precssion Score  0.8403657255822574\n",
      "------------------------------------------------------------------- \n",
      "Roc AUC Score  0.8020846664570741\n"
     ]
    }
   ],
   "source": [
    "print(\"---------------------- Decision Tree Model Evaluation ------------ \")\n",
    "print('Model Accuracy ', accuracy_score(y_pred_dt, y_test))\n",
    "print(\"----------------------------- -------------------------------------\")\n",
    "print(\"Recall Score \",recall_score(y_pred_dt, y_test))\n",
    "print(\"------------------------------------------------------------------- \")\n",
    "print(\"Precssion Score \",precision_score(y_pred_dt, y_test))\n",
    "print(\"------------------------------------------------------------------- \")\n",
    "print(\"Roc AUC Score \",roc_auc_score(y_pred_dt, y_test))"
   ]
  },
  {
   "cell_type": "code",
   "execution_count": 54,
   "metadata": {},
   "outputs": [
    {
     "name": "stdout",
     "output_type": "stream",
     "text": [
      "Train Accuracy ::  0.99995\n",
      "Test Accuracy  ::  0.8021065964467851\n"
     ]
    }
   ],
   "source": [
    "y_pred_train=clfdt.predict(x_train)\n",
    "y_pred_test=clfdt.predict(x_test)\n",
    "\n",
    "print(\"Train Accuracy :: \", accuracy_score(y_train, y_pred_train))\n",
    "print(\"Test Accuracy  :: \", accuracy_score(y_test, y_pred_test))\n"
   ]
  },
  {
   "cell_type": "code",
   "execution_count": 55,
   "metadata": {},
   "outputs": [],
   "source": [
    "def  draw_roc(y_pred, y_test):\n",
    "    # Compute ROC curve and ROC for each class\n",
    "    tpr,fpr, thresholds=roc_curve(y_pred_dt,y_test)\n",
    "    roc_auc = auc(fpr, tpr)\n",
    "    \n",
    "    plt.figure(figsize=(7,7))\n",
    "    plt.title('Receiver Operating Characteristic (Flight Deley Prediction)')\n",
    "    plt.plot(fpr,tpr, color='red' , label='AUC =%0.2f'%roc_auc)\n",
    "    plt.legend(loc=\"lower right\")\n",
    "    plt.plot([0,1],[0,1],linestyle='--')\n",
    "    plt.axis('tight')\n",
    "    plt.ylabel('True Positive Rate')\n",
    "    plt.xlabel('False Positive Rate')"
   ]
  },
  {
   "cell_type": "code",
   "execution_count": 56,
   "metadata": {},
   "outputs": [
    {
     "data": {
      "image/png": "[encoded data removed]",
      "text/plain": [
       "<Figure size 504x504 with 1 Axes>"
      ]
     },
     "metadata": {},
     "output_type": "display_data"
    }
   ],
   "source": [
    "draw_roc(y_pred_dt,y_test)"
   ]
  },
  {
   "cell_type": "code",
   "execution_count": 60,
   "metadata": {},
   "outputs": [],
   "source": [
    "from sklearn.neural_network import MLPClassifier\n",
    "mlp=MLPClassifier(activation='logistic')"
   ]
  },
  {
   "cell_type": "code",
   "execution_count": null,
   "metadata": {},
   "outputs": [],
   "source": [
    "mlp.fit(x_train,y_train)"
   ]
  },
  {
   "cell_type": "code",
   "execution_count": null,
   "metadata": {},
   "outputs": [],
   "source": [
    "y_pred_mlp=mlp.predict(x_test)"
   ]
  },
  {
   "cell_type": "code",
   "execution_count": null,
   "metadata": {},
   "outputs": [],
   "source": [
    "print('Model Accuracy ', accuracy_score(y_pred_mlp, y_test))\n",
    "print(\"----------------------------- -------------------------------------\")\n",
    "print(\"Recall Score \",recall_score(y_pred_mlp, y_test))\n",
    "print(\"------------------------------------------------------------------- \")\n",
    "print(\"Precssion Score \",precision_score(y_pred_mlp, y_test))\n",
    "print(\"------------------------------------------------------------------- \")\n",
    "print(\"Roc AUC Score \",roc_auc_score(y_pred_mlp, y_test))"
   ]
  },
  {
   "cell_type": "code",
   "execution_count": null,
   "metadata": {},
   "outputs": [],
   "source": [
    "y_pred_train=mlp.predict(x_train)\n",
    "y_pred_test=mlp.predict(x_test)\n",
    "\n",
    "print(\"Train Accuracy :: \", accuracy_score(y_train, y_pred_train))\n",
    "print(\"Test Accuracy  :: \", accuracy_score(y_test, y_pred_test))\n"
   ]
  },
  {
   "cell_type": "code",
   "execution_count": null,
   "metadata": {},
   "outputs": [],
   "source": [
    "def  draw_roc(y_pred, y_test):\n",
    "    # Compute ROC curve and ROC for each class\n",
    "    tpr,fpr, thresholds=roc_curve(y_pred,y_test)\n",
    "    roc_auc = auc(fpr, tpr)\n",
    "    \n",
    "    plt.figure(figsize=(7,7))\n",
    "    plt.title('Receiver Operating Characteristic (Flight Deley Prediction)')\n",
    "    plt.plot(fpr,tpr, color='red' , label='AUC =%0.2f'%roc_auc)\n",
    "    plt.legend(loc=\"lower right\")\n",
    "    plt.plot([0,1],[0,1],linestyle='--')\n",
    "    plt.axis('tight')\n",
    "    plt.ylabel('True Positive Rate')\n",
    "    plt.xlabel('False Positive Rate')"
   ]
  },
  {
   "cell_type": "code",
   "execution_count": null,
   "metadata": {},
   "outputs": [],
   "source": [
    "draw_roc(y_pred_mlp,y_test)"
   ]
  },
  {
   "cell_type": "code",
   "execution_count": null,
   "metadata": {},
   "outputs": [],
   "source": [
    "import pickle"
   ]
  },
  {
   "cell_type": "code",
   "execution_count": null,
   "metadata": {},
   "outputs": [],
   "source": [
    "file=r'C:\\Users\\Akash\\Desktop\\pickl\\MLP.pkl'"
   ]
  },
  {
   "cell_type": "code",
   "execution_count": null,
   "metadata": {},
   "outputs": [],
   "source": [
    "pickle.dump(mlp, open(file, 'wb'))"
   ]
  },
  {
   "cell_type": "code",
   "execution_count": null,
   "metadata": {},
   "outputs": [],
   "source": [
    "#load_lr_model =pickle.load(open(file, 'rb'))"
   ]
  },
  {
   "cell_type": "code",
   "execution_count": null,
   "metadata": {},
   "outputs": [],
   "source": [
    "#a=load_lr_model.predict(x_test)"
   ]
  },
  {
   "cell_type": "code",
   "execution_count": null,
   "metadata": {},
   "outputs": [],
   "source": [
    "# print(\"---------------------- Decision Tree Model Evaluation ------------ \")\n",
    "# print('Model Accuracy ', accuracy_score(a, y_test))\n",
    "# print(\"----------------------------- -------------------------------------\")\n",
    "# print(\"Recall Score \",recall_score(a, y_test))\n",
    "# print(\"------------------------------------------------------------------- \")\n",
    "# print(\"Precssion Score \",precision_score(a, y_test))\n",
    "# print(\"------------------------------------------------------------------- \")\n",
    "# print(\"Roc AUC Score \",roc_auc_score(a, y_test))"
   ]
  },
  {
   "cell_type": "code",
   "execution_count": null,
   "metadata": {},
   "outputs": [],
   "source": []
  },
  {
   "cell_type": "code",
   "execution_count": null,
   "metadata": {},
   "outputs": [],
   "source": [
    "from sklearn.model_selection import GridSearchCV\n",
    "grid_param={'min_samples_split' : range(10,500,20),'max_depth': range(1,20,2)}\n",
    "clf_tree=DecisionTreeClassifier()\n",
    "clf_cv=GridSearchCV(clf_tree,grid_param)"
   ]
  },
  {
   "cell_type": "code",
   "execution_count": null,
   "metadata": {},
   "outputs": [],
   "source": []
  },
  {
   "cell_type": "code",
   "execution_count": null,
   "metadata": {},
   "outputs": [],
   "source": [
    "#clf_cv.fit(x_train,y_train)"
   ]
  },
  {
   "cell_type": "code",
   "execution_count": null,
   "metadata": {},
   "outputs": [],
   "source": [
    "y_pred_cv=clf_cv.predict(x_test)"
   ]
  },
  {
   "cell_type": "code",
   "execution_count": null,
   "metadata": {},
   "outputs": [],
   "source": [
    "print(\"----------------------------- Model Evaluation----------------------- \")\n",
    "print('Model Accuracy ', accuracy_score(y_pred_cv, y_test))\n",
    "print(\"----------------------------- Model Evaluation----------------------- \")\n",
    "print(\"Recall Score \",recall_score(y_pred_cv, y_test))\n",
    "print(\"----------------------------- Model Evaluation----------------------- \")\n",
    "print(\"Precssion Score \",precision_score(y_pred_lr, y_test))\n",
    "print(\"----------------------------- Model Evaluation----------------------- \")\n",
    "print(\"Roc AUC Score \",roc_auc_score(y_pred_cv, y_test))"
   ]
  },
  {
   "cell_type": "code",
   "execution_count": null,
   "metadata": {},
   "outputs": [],
   "source": []
  },
  {
   "cell_type": "code",
   "execution_count": null,
   "metadata": {},
   "outputs": [],
   "source": [
    "from sklearn.ensemble import RandomForestClassifier"
   ]
  },
  {
   "cell_type": "code",
   "execution_count": null,
   "metadata": {},
   "outputs": [],
   "source": [
    "clf = RandomForestClassifier()"
   ]
  },
  {
   "cell_type": "code",
   "execution_count": null,
   "metadata": {},
   "outputs": [],
   "source": [
    "clf.fit(x_train,y_train)"
   ]
  },
  {
   "cell_type": "code",
   "execution_count": null,
   "metadata": {},
   "outputs": [],
   "source": [
    "y_pred_cv=clf.predict(x_test)"
   ]
  },
  {
   "cell_type": "code",
   "execution_count": null,
   "metadata": {},
   "outputs": [],
   "source": [
    "print(\"----------------------------- Model Evaluation----------------------- \")\n",
    "print('Model Accuracy ', accuracy_score(y_pred_cv, y_test))\n",
    "print(\"----------------------------- Model Evaluation----------------------- \")\n",
    "print(\"Recall Score \",recall_score(y_pred_cv, y_test))\n",
    "print(\"----------------------------- Model Evaluation----------------------- \")\n",
    "print(\"Precssion Score \",precision_score(y_pred_lr, y_test))\n",
    "print(\"----------------------------- Model Evaluation----------------------- \")\n",
    "print(\"Roc AUC Score \",roc_auc_score(y_pred_cv, y_test))"
   ]
  },
  {
   "cell_type": "code",
   "execution_count": null,
   "metadata": {},
   "outputs": [],
   "source": [
    "draw_roc(y_pred_mlp,y_test)"
   ]
  },
  {
   "cell_type": "code",
   "execution_count": null,
   "metadata": {},
   "outputs": [],
   "source": [
    "y_pred_train=clf.predict(x_train)\n",
    "y_pred_test=clf.predict(x_test)"
   ]
  },
  {
   "cell_type": "code",
   "execution_count": null,
   "metadata": {},
   "outputs": [],
   "source": [
    "y_pred_train=clf.predict(x_train)\n",
    "y_pred_test=clf.predict(x_test)\n",
    "\n",
    "print(\"Train Accuracy :: \", accuracy_score(y_train, y_pred_train))\n",
    "print(\"Test Accuracy  :: \", accuracy_score(y_test, y_pred_test))\n"
   ]
  },
  {
   "cell_type": "code",
   "execution_count": null,
   "metadata": {},
   "outputs": [],
   "source": []
  }
 ],
 "metadata": {
  "kernelspec": {
   "display_name": "Python 3",
   "language": "python",
   "name": "python3"
  },
  "language_info": {
   "codemirror_mode": {
    "name": "ipython",
    "version": 3
   },
   "file_extension": ".py",
   "mimetype": "text/x-python",
   "name": "python",
   "nbconvert_exporter": "python",
   "pygments_lexer": "ipython3",
   "version": "3.6.5"
  }
 },
 "nbformat": 4,
 "nbformat_minor": 2
}
